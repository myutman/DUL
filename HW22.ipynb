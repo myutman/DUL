{
  "nbformat": 4,
  "nbformat_minor": 0,
  "metadata": {
    "colab": {
      "name": "DUL_HW22.ipynb",
      "provenance": [],
      "collapsed_sections": [],
      "include_colab_link": true
    },
    "kernelspec": {
      "name": "python3",
      "display_name": "Python 3"
    },
    "accelerator": "GPU"
  },
  "cells": [
    {
      "cell_type": "markdown",
      "metadata": {
        "id": "view-in-github",
        "colab_type": "text"
      },
      "source": [
        "<a href=\"https://colab.research.google.com/github/myutman/DUL/blob/HW2/HW22.ipynb\" target=\"_parent\"><img src=\"https://colab.research.google.com/assets/colab-badge.svg\" alt=\"Open In Colab\"/></a>"
      ]
    },
    {
      "cell_type": "code",
      "metadata": {
        "id": "8Iw6qvrtCoJI",
        "colab_type": "code",
        "colab": {}
      },
      "source": [
        "import numpy as np\n",
        "\n",
        "import matplotlib.pyplot as plt\n",
        "\n",
        "from tqdm import tqdm_notebook as tqdm\n",
        "\n",
        "from sklearn.model_selection import train_test_split\n",
        "\n",
        "import torch\n",
        "import torch.nn as nn\n",
        "import torch.optim as optim\n",
        "from torch.functional import F"
      ],
      "execution_count": 0,
      "outputs": []
    },
    {
      "cell_type": "code",
      "metadata": {
        "id": "3VMElXqVLgCo",
        "colab_type": "code",
        "colab": {}
      },
      "source": [
        "device = torch.device('cuda:0' if torch.cuda.is_available() else 'cpu')"
      ],
      "execution_count": 0,
      "outputs": []
    },
    {
      "cell_type": "code",
      "metadata": {
        "id": "pgWgy0V5MBi8",
        "colab_type": "code",
        "outputId": "c989094a-2793-4c07-cc07-065023b8d8cd",
        "colab": {
          "base_uri": "https://localhost:8080/",
          "height": 122
        }
      },
      "source": [
        "from google.colab import drive\n",
        "drive.mount('/content/gdrive')"
      ],
      "execution_count": 0,
      "outputs": [
        {
          "output_type": "stream",
          "text": [
            "Go to this URL in a browser: https://accounts.google.com/o/oauth2/auth?client_id=947318989803-6bn6qk8qdgf4n4g3pfee6491hc0brc4i.apps.googleusercontent.com&redirect_uri=urn%3aietf%3awg%3aoauth%3a2.0%3aoob&response_type=code&scope=email%20https%3a%2f%2fwww.googleapis.com%2fauth%2fdocs.test%20https%3a%2f%2fwww.googleapis.com%2fauth%2fdrive%20https%3a%2f%2fwww.googleapis.com%2fauth%2fdrive.photos.readonly%20https%3a%2f%2fwww.googleapis.com%2fauth%2fpeopleapi.readonly\n",
            "\n",
            "Enter your authorization code:\n",
            "··········\n",
            "Mounted at /content/gdrive\n"
          ],
          "name": "stdout"
        }
      ]
    },
    {
      "cell_type": "code",
      "metadata": {
        "id": "Vu2xDzsJDchg",
        "colab_type": "code",
        "colab": {}
      },
      "source": [
        "import pickle\n",
        "celeb_data = []\n",
        "with open('/content/gdrive/My Drive/DUL/hw2_q2.pkl', 'rb') as mnist_file:\n",
        "    celeb_data = pickle.load(mnist_file)"
      ],
      "execution_count": 0,
      "outputs": []
    },
    {
      "cell_type": "code",
      "metadata": {
        "id": "ED2DYPFOMWTM",
        "colab_type": "code",
        "outputId": "b2ffd9de-8779-4c01-ab0c-701e547faf19",
        "colab": {
          "base_uri": "https://localhost:8080/",
          "height": 34
        }
      },
      "source": [
        "class ResidualGroup(nn.Module):\n",
        "    def __init__(self, channels):\n",
        "        super(ResidualGroup, self).__init__()\n",
        "        self.seq = nn.Sequential(\n",
        "            #ReLU(),\n",
        "            nn.Conv2d(channels, channels, kernel_size=1, stride=1, padding=0),\n",
        "            #nn.BatchNorm2d(channels),\n",
        "            ReLU(),\n",
        "            nn.Conv2d(channels, channels, kernel_size=3, stride=1, padding=1),\n",
        "            #nn.BatchNorm2d(channels),\n",
        "            ReLU(),\n",
        "            nn.Conv2d(channels, channels, kernel_size=1, stride=1, padding=0),\n",
        "            #nn.BatchNorm2d(channels),\n",
        "        )\n",
        "    \n",
        "    def forward(self, x):\n",
        "        return self.seq(x) + x\n",
        "\n",
        "class SimpleResnet(nn.Module):\n",
        "    def __init__(self, n_in, n_filters=256, n_blocks=8):\n",
        "        super(SimpleResnet, self).__init__()\n",
        "\n",
        "        n_out = 2 * n_in\n",
        "        layers = [nn.Conv2d(n_in, n_filters, kernel_size=3, stride=1, padding=1)]\n",
        "        for i in range(n_blocks):\n",
        "            layers.append(ResidualGroup(n_filters))\n",
        "        layers.extend([\n",
        "            nn.ReLU(),\n",
        "            nn.Conv2d(n_filters, n_out, kernel_size=3, stride=1, padding=1)\n",
        "        ])\n",
        "        self.seq = nn.Sequential(*layers)\n",
        "    \n",
        "    def forward(self, x):\n",
        "        return self.seq(x)\n",
        "\n",
        "class AffineCoupling(nn.Module):\n",
        "    def __init__(self, n_in, mask):\n",
        "        super(AffineCoupling, self).__init__()\n",
        "        self.res = SimpleResnet(n_in)\n",
        "        self.mask\n",
        "\n",
        "    def forward(self, x):\n",
        "        y = x * self.mask\n",
        "        s, t = self.res(x1).split(2, dim=1)\n",
        "        y += (s.exp() * x1 + t) * (1 - self.mask)\n",
        "        jac = (s * (1 - self.mask)).sum()\n",
        "        return (y1, y2), jac\n",
        "\n",
        "def checkerboard_mask(c, n):\n",
        "    return torch.tensor([[0., 1.], [1., 0.]]).repeat(n // 2, n // 2)\n",
        "\n",
        "def channel_mask(n):\n",
        "\n",
        "\n",
        "class FlowModel(nn.Module):\n",
        "    def __init__(self):\n",
        "        super(FlowModel, self).__init__()\n",
        "\n",
        "    def forward(self, x):\n"
      ],
      "execution_count": 0,
      "outputs": [
        {
          "output_type": "execute_result",
          "data": {
            "text/plain": [
              "6838"
            ]
          },
          "metadata": {
            "tags": []
          },
          "execution_count": 23
        }
      ]
    }
  ]
}